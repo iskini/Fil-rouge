{
 "cells": [
  {
   "cell_type": "markdown",
   "metadata": {},
   "source": [
    "# Projet file rouge : Allstate Claims Severity"
   ]
  },
  {
   "cell_type": "markdown",
   "metadata": {},
   "source": [
    "## Présentation du sujet:"
   ]
  },
  {
   "cell_type": "markdown",
   "metadata": {},
   "source": [
    "$\\textbf{Allstate}$ est une compagnie d'assurance qui s'est mise au point des méthodes automatisées de prévision du coût, et donc de la gravité, des sinistres. \n",
    "\n",
    "Le but du projet étant de prédir la sévérité des sinistres.\n",
    "\n",
    "Nous disposons de deux bases de données contenant des sinistres historiques et leurs différents coûts. Une base qui nous servira pour entraîner les différents modèles predictives que nous allons élaborer, et une base test sur laquelle nous allons tester la performance du modèle prédictive.\n",
    "\n",
    "les bases de données contient des variables quantitatives (cont1,cont2...) et des variables qualitatives (cat1,cat2,...) ainsi que la variable à prédire notée \"loss\".\n",
    "\n",
    "La difficulté reside dans le fait que nous avons pas les vrais labels des variables ce qui compliquera la compréhension des resultats.\n",
    "\n",
    "Etapes de l'études:\n",
    "    \n",
    "        1- Analyse descriptive : \n",
    "        2- \n"
   ]
  },
  {
   "cell_type": "markdown",
   "metadata": {},
   "source": [
    "#Commentaires:\n",
    "\n",
    "        - Utilisation de l'ACP que lorsqu'il a présence des variables corrélées"
   ]
  },
  {
   "cell_type": "code",
   "execution_count": 1,
   "metadata": {},
   "outputs": [],
   "source": [
    "#Library\n",
    "import numpy as np\n",
    "import pandas as pd\n",
    "import matplotlib.pyplot as plt \n",
    "import seaborn as sns\n",
    "from sklearn.preprocessing import LabelEncoder\n"
   ]
  },
  {
   "cell_type": "markdown",
   "metadata": {},
   "source": [
    "### Importation et lecture des données"
   ]
  },
  {
   "cell_type": "code",
   "execution_count": 2,
   "metadata": {},
   "outputs": [],
   "source": [
    "#Data import\n",
    "data=pd.read_csv('C:/Users/Grabus2/Desktop/Allstate Claims severity/train.csv',sep=',',header=0)\n",
    "data=pd.DataFrame(data)"
   ]
  },
  {
   "cell_type": "code",
   "execution_count": 3,
   "metadata": {},
   "outputs": [
    {
     "data": {
      "text/html": [
       "<div>\n",
       "<style scoped>\n",
       "    .dataframe tbody tr th:only-of-type {\n",
       "        vertical-align: middle;\n",
       "    }\n",
       "\n",
       "    .dataframe tbody tr th {\n",
       "        vertical-align: top;\n",
       "    }\n",
       "\n",
       "    .dataframe thead th {\n",
       "        text-align: right;\n",
       "    }\n",
       "</style>\n",
       "<table border=\"1\" class=\"dataframe\">\n",
       "  <thead>\n",
       "    <tr style=\"text-align: right;\">\n",
       "      <th></th>\n",
       "      <th>id</th>\n",
       "      <th>cat1</th>\n",
       "      <th>cat2</th>\n",
       "      <th>cat3</th>\n",
       "      <th>cat4</th>\n",
       "      <th>cat5</th>\n",
       "      <th>cat6</th>\n",
       "      <th>cat7</th>\n",
       "      <th>cat8</th>\n",
       "      <th>cat9</th>\n",
       "      <th>...</th>\n",
       "      <th>cont6</th>\n",
       "      <th>cont7</th>\n",
       "      <th>cont8</th>\n",
       "      <th>cont9</th>\n",
       "      <th>cont10</th>\n",
       "      <th>cont11</th>\n",
       "      <th>cont12</th>\n",
       "      <th>cont13</th>\n",
       "      <th>cont14</th>\n",
       "      <th>loss</th>\n",
       "    </tr>\n",
       "  </thead>\n",
       "  <tbody>\n",
       "    <tr>\n",
       "      <th>0</th>\n",
       "      <td>1</td>\n",
       "      <td>A</td>\n",
       "      <td>B</td>\n",
       "      <td>A</td>\n",
       "      <td>B</td>\n",
       "      <td>A</td>\n",
       "      <td>A</td>\n",
       "      <td>A</td>\n",
       "      <td>A</td>\n",
       "      <td>B</td>\n",
       "      <td>...</td>\n",
       "      <td>0.718367</td>\n",
       "      <td>0.335060</td>\n",
       "      <td>0.30260</td>\n",
       "      <td>0.67135</td>\n",
       "      <td>0.83510</td>\n",
       "      <td>0.569745</td>\n",
       "      <td>0.594646</td>\n",
       "      <td>0.822493</td>\n",
       "      <td>0.714843</td>\n",
       "      <td>2213.18</td>\n",
       "    </tr>\n",
       "    <tr>\n",
       "      <th>1</th>\n",
       "      <td>2</td>\n",
       "      <td>A</td>\n",
       "      <td>B</td>\n",
       "      <td>A</td>\n",
       "      <td>A</td>\n",
       "      <td>A</td>\n",
       "      <td>A</td>\n",
       "      <td>A</td>\n",
       "      <td>A</td>\n",
       "      <td>B</td>\n",
       "      <td>...</td>\n",
       "      <td>0.438917</td>\n",
       "      <td>0.436585</td>\n",
       "      <td>0.60087</td>\n",
       "      <td>0.35127</td>\n",
       "      <td>0.43919</td>\n",
       "      <td>0.338312</td>\n",
       "      <td>0.366307</td>\n",
       "      <td>0.611431</td>\n",
       "      <td>0.304496</td>\n",
       "      <td>1283.60</td>\n",
       "    </tr>\n",
       "    <tr>\n",
       "      <th>2</th>\n",
       "      <td>5</td>\n",
       "      <td>A</td>\n",
       "      <td>B</td>\n",
       "      <td>A</td>\n",
       "      <td>A</td>\n",
       "      <td>B</td>\n",
       "      <td>A</td>\n",
       "      <td>A</td>\n",
       "      <td>A</td>\n",
       "      <td>B</td>\n",
       "      <td>...</td>\n",
       "      <td>0.289648</td>\n",
       "      <td>0.315545</td>\n",
       "      <td>0.27320</td>\n",
       "      <td>0.26076</td>\n",
       "      <td>0.32446</td>\n",
       "      <td>0.381398</td>\n",
       "      <td>0.373424</td>\n",
       "      <td>0.195709</td>\n",
       "      <td>0.774425</td>\n",
       "      <td>3005.09</td>\n",
       "    </tr>\n",
       "    <tr>\n",
       "      <th>3</th>\n",
       "      <td>10</td>\n",
       "      <td>B</td>\n",
       "      <td>B</td>\n",
       "      <td>A</td>\n",
       "      <td>B</td>\n",
       "      <td>A</td>\n",
       "      <td>A</td>\n",
       "      <td>A</td>\n",
       "      <td>A</td>\n",
       "      <td>B</td>\n",
       "      <td>...</td>\n",
       "      <td>0.440945</td>\n",
       "      <td>0.391128</td>\n",
       "      <td>0.31796</td>\n",
       "      <td>0.32128</td>\n",
       "      <td>0.44467</td>\n",
       "      <td>0.327915</td>\n",
       "      <td>0.321570</td>\n",
       "      <td>0.605077</td>\n",
       "      <td>0.602642</td>\n",
       "      <td>939.85</td>\n",
       "    </tr>\n",
       "    <tr>\n",
       "      <th>4</th>\n",
       "      <td>11</td>\n",
       "      <td>A</td>\n",
       "      <td>B</td>\n",
       "      <td>A</td>\n",
       "      <td>B</td>\n",
       "      <td>A</td>\n",
       "      <td>A</td>\n",
       "      <td>A</td>\n",
       "      <td>A</td>\n",
       "      <td>B</td>\n",
       "      <td>...</td>\n",
       "      <td>0.178193</td>\n",
       "      <td>0.247408</td>\n",
       "      <td>0.24564</td>\n",
       "      <td>0.22089</td>\n",
       "      <td>0.21230</td>\n",
       "      <td>0.204687</td>\n",
       "      <td>0.202213</td>\n",
       "      <td>0.246011</td>\n",
       "      <td>0.432606</td>\n",
       "      <td>2763.85</td>\n",
       "    </tr>\n",
       "    <tr>\n",
       "      <th>5</th>\n",
       "      <td>13</td>\n",
       "      <td>A</td>\n",
       "      <td>B</td>\n",
       "      <td>A</td>\n",
       "      <td>A</td>\n",
       "      <td>A</td>\n",
       "      <td>A</td>\n",
       "      <td>A</td>\n",
       "      <td>A</td>\n",
       "      <td>B</td>\n",
       "      <td>...</td>\n",
       "      <td>0.364464</td>\n",
       "      <td>0.401162</td>\n",
       "      <td>0.26847</td>\n",
       "      <td>0.46226</td>\n",
       "      <td>0.50556</td>\n",
       "      <td>0.366788</td>\n",
       "      <td>0.359249</td>\n",
       "      <td>0.345247</td>\n",
       "      <td>0.726792</td>\n",
       "      <td>5142.87</td>\n",
       "    </tr>\n",
       "    <tr>\n",
       "      <th>6</th>\n",
       "      <td>14</td>\n",
       "      <td>A</td>\n",
       "      <td>A</td>\n",
       "      <td>A</td>\n",
       "      <td>A</td>\n",
       "      <td>B</td>\n",
       "      <td>A</td>\n",
       "      <td>A</td>\n",
       "      <td>A</td>\n",
       "      <td>A</td>\n",
       "      <td>...</td>\n",
       "      <td>0.381515</td>\n",
       "      <td>0.363768</td>\n",
       "      <td>0.24564</td>\n",
       "      <td>0.40455</td>\n",
       "      <td>0.47225</td>\n",
       "      <td>0.334828</td>\n",
       "      <td>0.352251</td>\n",
       "      <td>0.342239</td>\n",
       "      <td>0.382931</td>\n",
       "      <td>1132.22</td>\n",
       "    </tr>\n",
       "    <tr>\n",
       "      <th>7</th>\n",
       "      <td>20</td>\n",
       "      <td>A</td>\n",
       "      <td>B</td>\n",
       "      <td>A</td>\n",
       "      <td>B</td>\n",
       "      <td>A</td>\n",
       "      <td>A</td>\n",
       "      <td>A</td>\n",
       "      <td>A</td>\n",
       "      <td>B</td>\n",
       "      <td>...</td>\n",
       "      <td>0.867021</td>\n",
       "      <td>0.583389</td>\n",
       "      <td>0.90267</td>\n",
       "      <td>0.84847</td>\n",
       "      <td>0.80218</td>\n",
       "      <td>0.644013</td>\n",
       "      <td>0.785706</td>\n",
       "      <td>0.859764</td>\n",
       "      <td>0.242416</td>\n",
       "      <td>3585.75</td>\n",
       "    </tr>\n",
       "    <tr>\n",
       "      <th>8</th>\n",
       "      <td>23</td>\n",
       "      <td>A</td>\n",
       "      <td>B</td>\n",
       "      <td>B</td>\n",
       "      <td>B</td>\n",
       "      <td>B</td>\n",
       "      <td>A</td>\n",
       "      <td>A</td>\n",
       "      <td>A</td>\n",
       "      <td>B</td>\n",
       "      <td>...</td>\n",
       "      <td>0.628534</td>\n",
       "      <td>0.384099</td>\n",
       "      <td>0.61229</td>\n",
       "      <td>0.38249</td>\n",
       "      <td>0.51111</td>\n",
       "      <td>0.682315</td>\n",
       "      <td>0.669033</td>\n",
       "      <td>0.756454</td>\n",
       "      <td>0.361191</td>\n",
       "      <td>10280.20</td>\n",
       "    </tr>\n",
       "    <tr>\n",
       "      <th>9</th>\n",
       "      <td>24</td>\n",
       "      <td>A</td>\n",
       "      <td>B</td>\n",
       "      <td>A</td>\n",
       "      <td>A</td>\n",
       "      <td>B</td>\n",
       "      <td>B</td>\n",
       "      <td>A</td>\n",
       "      <td>A</td>\n",
       "      <td>B</td>\n",
       "      <td>...</td>\n",
       "      <td>0.713343</td>\n",
       "      <td>0.469223</td>\n",
       "      <td>0.30260</td>\n",
       "      <td>0.67135</td>\n",
       "      <td>0.83510</td>\n",
       "      <td>0.863052</td>\n",
       "      <td>0.879347</td>\n",
       "      <td>0.822493</td>\n",
       "      <td>0.294523</td>\n",
       "      <td>6184.59</td>\n",
       "    </tr>\n",
       "  </tbody>\n",
       "</table>\n",
       "<p>10 rows × 132 columns</p>\n",
       "</div>"
      ],
      "text/plain": [
       "   id cat1 cat2 cat3 cat4 cat5 cat6 cat7 cat8 cat9    ...        cont6  \\\n",
       "0   1    A    B    A    B    A    A    A    A    B    ...     0.718367   \n",
       "1   2    A    B    A    A    A    A    A    A    B    ...     0.438917   \n",
       "2   5    A    B    A    A    B    A    A    A    B    ...     0.289648   \n",
       "3  10    B    B    A    B    A    A    A    A    B    ...     0.440945   \n",
       "4  11    A    B    A    B    A    A    A    A    B    ...     0.178193   \n",
       "5  13    A    B    A    A    A    A    A    A    B    ...     0.364464   \n",
       "6  14    A    A    A    A    B    A    A    A    A    ...     0.381515   \n",
       "7  20    A    B    A    B    A    A    A    A    B    ...     0.867021   \n",
       "8  23    A    B    B    B    B    A    A    A    B    ...     0.628534   \n",
       "9  24    A    B    A    A    B    B    A    A    B    ...     0.713343   \n",
       "\n",
       "      cont7    cont8    cont9   cont10    cont11    cont12    cont13  \\\n",
       "0  0.335060  0.30260  0.67135  0.83510  0.569745  0.594646  0.822493   \n",
       "1  0.436585  0.60087  0.35127  0.43919  0.338312  0.366307  0.611431   \n",
       "2  0.315545  0.27320  0.26076  0.32446  0.381398  0.373424  0.195709   \n",
       "3  0.391128  0.31796  0.32128  0.44467  0.327915  0.321570  0.605077   \n",
       "4  0.247408  0.24564  0.22089  0.21230  0.204687  0.202213  0.246011   \n",
       "5  0.401162  0.26847  0.46226  0.50556  0.366788  0.359249  0.345247   \n",
       "6  0.363768  0.24564  0.40455  0.47225  0.334828  0.352251  0.342239   \n",
       "7  0.583389  0.90267  0.84847  0.80218  0.644013  0.785706  0.859764   \n",
       "8  0.384099  0.61229  0.38249  0.51111  0.682315  0.669033  0.756454   \n",
       "9  0.469223  0.30260  0.67135  0.83510  0.863052  0.879347  0.822493   \n",
       "\n",
       "     cont14      loss  \n",
       "0  0.714843   2213.18  \n",
       "1  0.304496   1283.60  \n",
       "2  0.774425   3005.09  \n",
       "3  0.602642    939.85  \n",
       "4  0.432606   2763.85  \n",
       "5  0.726792   5142.87  \n",
       "6  0.382931   1132.22  \n",
       "7  0.242416   3585.75  \n",
       "8  0.361191  10280.20  \n",
       "9  0.294523   6184.59  \n",
       "\n",
       "[10 rows x 132 columns]"
      ]
     },
     "execution_count": 3,
     "metadata": {},
     "output_type": "execute_result"
    }
   ],
   "source": [
    "#Extrait du Data\n",
    "data.head(10)"
   ]
  },
  {
   "cell_type": "markdown",
   "metadata": {},
   "source": [
    "## Exploration des données"
   ]
  },
  {
   "cell_type": "code",
   "execution_count": 4,
   "metadata": {},
   "outputs": [
    {
     "name": "stdout",
     "output_type": "stream",
     "text": [
      "nombre d'observations (lignes): 188318\n",
      "nombre de variables (colonnes): 132\n",
      "Nombre des valeurs manquantes: 0\n"
     ]
    }
   ],
   "source": [
    "#data size\n",
    "print(\"nombre d'observations (lignes):\",data.shape[0])\n",
    "print(\"nombre de variables (colonnes):\",data.shape[1])\n",
    "\n",
    "#Verification des valeur \n",
    "nan_count=sum(len(data)-data.count())\n",
    "print(\"Nombre des valeurs manquantes:\",nan_count)"
   ]
  },
  {
   "cell_type": "code",
   "execution_count": 5,
   "metadata": {},
   "outputs": [
    {
     "data": {
      "text/plain": [
       "Index(['id', 'cat1', 'cat2', 'cat3', 'cat4', 'cat5', 'cat6', 'cat7', 'cat8',\n",
       "       'cat9',\n",
       "       ...\n",
       "       'cont6', 'cont7', 'cont8', 'cont9', 'cont10', 'cont11', 'cont12',\n",
       "       'cont13', 'cont14', 'loss'],\n",
       "      dtype='object', length=132)"
      ]
     },
     "execution_count": 5,
     "metadata": {},
     "output_type": "execute_result"
    }
   ],
   "source": [
    "#del data['id']\n",
    "data.columns #Après suppréssion de la colonne \"id\""
   ]
  },
  {
   "cell_type": "code",
   "execution_count": 6,
   "metadata": {},
   "outputs": [
    {
     "name": "stdout",
     "output_type": "stream",
     "text": [
      "                  id          cont1          cont2          cont3  \\\n",
      "count  188318.000000  188318.000000  188318.000000  188318.000000   \n",
      "mean   294135.982561       0.493861       0.507188       0.498918   \n",
      "std    169336.084867       0.187640       0.207202       0.202105   \n",
      "min         1.000000       0.000016       0.001149       0.002634   \n",
      "25%    147748.250000       0.346090       0.358319       0.336963   \n",
      "50%    294539.500000       0.475784       0.555782       0.527991   \n",
      "75%    440680.500000       0.623912       0.681761       0.634224   \n",
      "max    587633.000000       0.984975       0.862654       0.944251   \n",
      "\n",
      "               cont4          cont5          cont6          cont7  \\\n",
      "count  188318.000000  188318.000000  188318.000000  188318.000000   \n",
      "mean        0.491812       0.487428       0.490945       0.484970   \n",
      "std         0.211292       0.209027       0.205273       0.178450   \n",
      "min         0.176921       0.281143       0.012683       0.069503   \n",
      "25%         0.327354       0.281143       0.336105       0.350175   \n",
      "50%         0.452887       0.422268       0.440945       0.438285   \n",
      "75%         0.652072       0.643315       0.655021       0.591045   \n",
      "max         0.954297       0.983674       0.997162       1.000000   \n",
      "\n",
      "               cont8          cont9         cont10         cont11  \\\n",
      "count  188318.000000  188318.000000  188318.000000  188318.000000   \n",
      "mean        0.486437       0.485506       0.498066       0.493511   \n",
      "std         0.199370       0.181660       0.185877       0.209737   \n",
      "min         0.236880       0.000080       0.000000       0.035321   \n",
      "25%         0.312800       0.358970       0.364580       0.310961   \n",
      "50%         0.441060       0.441450       0.461190       0.457203   \n",
      "75%         0.623580       0.566820       0.614590       0.678924   \n",
      "max         0.980200       0.995400       0.994980       0.998742   \n",
      "\n",
      "              cont12         cont13         cont14           loss  \n",
      "count  188318.000000  188318.000000  188318.000000  188318.000000  \n",
      "mean        0.493150       0.493138       0.495717    3037.337686  \n",
      "std         0.209427       0.212777       0.222488    2904.086186  \n",
      "min         0.036232       0.000228       0.179722       0.670000  \n",
      "25%         0.311661       0.315758       0.294610    1204.460000  \n",
      "50%         0.462286       0.363547       0.407403    2115.570000  \n",
      "75%         0.675759       0.689974       0.724623    3864.045000  \n",
      "max         0.998484       0.988494       0.844848  121012.250000  \n"
     ]
    }
   ],
   "source": [
    "#informations générales\n",
    "print(data.describe())"
   ]
  },
  {
   "cell_type": "code",
   "execution_count": 7,
   "metadata": {},
   "outputs": [
    {
     "name": "stdout",
     "output_type": "stream",
     "text": [
      "\n",
      " On a 14 variables numeriques : \n",
      "          0\n",
      "0    cont1\n",
      "1    cont2\n",
      "2    cont3\n",
      "3    cont4\n",
      "4    cont5\n",
      "5    cont6\n",
      "6    cont7\n",
      "7    cont8\n",
      "8    cont9\n",
      "9   cont10\n",
      "10  cont11\n",
      "11  cont12\n",
      "12  cont13\n",
      "13  cont14 \n",
      "\n",
      " On a 116 variables catégorielles : \n",
      "           0\n",
      "0      cat1\n",
      "1      cat2\n",
      "2      cat3\n",
      "3      cat4\n",
      "4      cat5\n",
      "5      cat6\n",
      "6      cat7\n",
      "7      cat8\n",
      "8      cat9\n",
      "9     cat10\n",
      "10    cat11\n",
      "11    cat12\n",
      "12    cat13\n",
      "13    cat14\n",
      "14    cat15\n",
      "15    cat16\n",
      "16    cat17\n",
      "17    cat18\n",
      "18    cat19\n",
      "19    cat20\n",
      "20    cat21\n",
      "21    cat22\n",
      "22    cat23\n",
      "23    cat24\n",
      "24    cat25\n",
      "25    cat26\n",
      "26    cat27\n",
      "27    cat28\n",
      "28    cat29\n",
      "29    cat30\n",
      "..      ...\n",
      "86    cat87\n",
      "87    cat88\n",
      "88    cat89\n",
      "89    cat90\n",
      "90    cat91\n",
      "91    cat92\n",
      "92    cat93\n",
      "93    cat94\n",
      "94    cat95\n",
      "95    cat96\n",
      "96    cat97\n",
      "97    cat98\n",
      "98    cat99\n",
      "99   cat100\n",
      "100  cat101\n",
      "101  cat102\n",
      "102  cat103\n",
      "103  cat104\n",
      "104  cat105\n",
      "105  cat106\n",
      "106  cat107\n",
      "107  cat108\n",
      "108  cat109\n",
      "109  cat110\n",
      "110  cat111\n",
      "111  cat112\n",
      "112  cat113\n",
      "113  cat114\n",
      "114  cat115\n",
      "115  cat116\n",
      "\n",
      "[116 rows x 1 columns] \n"
     ]
    }
   ],
   "source": [
    "#Séparation des variables explicatives du la variable à prédir\n",
    "X=data.iloc[:,0:131] #variables explicatives\n",
    "Y=data[\"loss\"] #variable à expliquer\n",
    "\n",
    "#Séparation des variables explicatives en deux ensembles : Variables quantitatives et qualitatives\n",
    "# variables numeriques\n",
    "var_num = list(data.columns[(data.dtypes==\"int\")|(data.dtypes==\"float\")].drop(\"loss\"))\n",
    "var_num=pd.DataFrame(var_num)\n",
    "print(\"\\n On a {} variables numeriques : \\n {} \".format(len(var_num),var_num))\n",
    "\n",
    "# Variables categorielles\n",
    "var_cat = list(data.columns[data.dtypes==\"object\"])\n",
    "var_cat=pd.DataFrame(var_cat)\n",
    "print(\"\\n On a {} variables catégorielles : \\n {} \".format(len(var_cat),var_cat))\n"
   ]
  },
  {
   "cell_type": "code",
   "execution_count": 8,
   "metadata": {},
   "outputs": [
    {
     "name": "stdout",
     "output_type": "stream",
     "text": [
      "nombre de variables qualitatives  : 116\n",
      "nombre de variables quantitatives : 14\n"
     ]
    }
   ],
   "source": [
    "print('nombre de variables qualitatives  :',var_cat.shape[0])\n",
    "print('nombre de variables quantitatives :',var_num.shape[0])\n"
   ]
  },
  {
   "cell_type": "code",
   "execution_count": null,
   "metadata": {},
   "outputs": [],
   "source": []
  },
  {
   "cell_type": "code",
   "execution_count": 9,
   "metadata": {},
   "outputs": [
    {
     "data": {
      "text/plain": [
       "<matplotlib.axes._subplots.AxesSubplot at 0x1cbcd9315f8>"
      ]
     },
     "execution_count": 9,
     "metadata": {},
     "output_type": "execute_result"
    },
    {
     "data": {
      "image/png": "[encoded data removed]",
      "text/plain": [
       "<Figure size 432x288 with 2 Axes>"
      ]
     },
     "metadata": {
      "needs_background": "light"
     },
     "output_type": "display_data"
    }
   ],
   "source": [
    "#Boxplot des variables explicatives\n",
    "cmap = sns.diverging_palette(110, 20, as_cmap=True)\n",
    "corr=data.corr()\n",
    "# Generate a mask for the upper triangle\n",
    "mask = np.zeros_like(corr, dtype=np.bool)\n",
    "mask[np.triu_indices_from(mask)] = True\n",
    "\n",
    "sns.heatmap(corr, mask=mask, cmap=cmap,cbar=True , linewidths=.5, cbar_kws={\"shrink\": .7})"
   ]
  },
  {
   "cell_type": "markdown",
   "metadata": {},
   "source": [
    "Intérpretation:\n",
    "        \n",
    "     -Nous remarquons qu'il y a des corrélation entre certaines variables, et vue le grand nombre de variables, nous pouvons regarder si nous poubons supprimer quelques unes en utilisant les méthodes de selection de variables de type ACP, Ridge..\n",
    "     "
   ]
  },
  {
   "cell_type": "code",
   "execution_count": 10,
   "metadata": {},
   "outputs": [
    {
     "data": {
      "image/png": "[encoded data removed]",
      "text/plain": [
       "<Figure size 432x288 with 1 Axes>"
      ]
     },
     "metadata": {
      "needs_background": "light"
     },
     "output_type": "display_data"
    }
   ],
   "source": [
    "#boxplot des variables quantitatives\n",
    "plt.hist(data[\"loss\"]);"
   ]
  },
  {
   "cell_type": "markdown",
   "metadata": {},
   "source": [
    "### Encodage des variables"
   ]
  },
  {
   "cell_type": "code",
   "execution_count": 12,
   "metadata": {},
   "outputs": [
    {
     "name": "stdout",
     "output_type": "stream",
     "text": [
      "Avant one-hot encoding\n",
      "Index(['id', 'cat1', 'cat2', 'cat3', 'cat4', 'cat5', 'cat6', 'cat7', 'cat8',\n",
      "       'cat9',\n",
      "       ...\n",
      "       'cont6', 'cont7', 'cont8', 'cont9', 'cont10', 'cont11', 'cont12',\n",
      "       'cont13', 'cont14', 'loss'],\n",
      "      dtype='object', length=132)\n",
      "(188318, 132)\n"
     ]
    },
    {
     "ename": "ValueError",
     "evalue": "Must pass DataFrame with boolean values only",
     "output_type": "error",
     "traceback": [
      "\u001b[1;31m---------------------------------------------------------------------------\u001b[0m",
      "\u001b[1;31mValueError\u001b[0m                                Traceback (most recent call last)",
      "\u001b[1;32m<ipython-input-12-7de3ac60ecae>\u001b[0m in \u001b[0;36m<module>\u001b[1;34m()\u001b[0m\n\u001b[0;32m      7\u001b[0m \u001b[0mprint\u001b[0m\u001b[1;33m(\u001b[0m\u001b[0mdata\u001b[0m\u001b[1;33m.\u001b[0m\u001b[0mshape\u001b[0m\u001b[1;33m)\u001b[0m\u001b[1;33m\u001b[0m\u001b[0m\n\u001b[0;32m      8\u001b[0m \u001b[1;31m# encodage\u001b[0m\u001b[1;33m\u001b[0m\u001b[1;33m\u001b[0m\u001b[0m\n\u001b[1;32m----> 9\u001b[1;33m \u001b[0mdata1\u001b[0m \u001b[1;33m=\u001b[0m \u001b[0mpd\u001b[0m\u001b[1;33m.\u001b[0m\u001b[0mget_dummies\u001b[0m\u001b[1;33m(\u001b[0m\u001b[0mvar_cat\u001b[0m\u001b[1;33m,\u001b[0m \u001b[0mcolumns\u001b[0m\u001b[1;33m=\u001b[0m\u001b[0mvar_cat\u001b[0m\u001b[1;33m)\u001b[0m\u001b[1;33m\u001b[0m\u001b[0m\n\u001b[0m\u001b[0;32m     10\u001b[0m \u001b[0mprint\u001b[0m\u001b[1;33m(\u001b[0m\u001b[1;34m\"Apres one-hot encoding\"\u001b[0m\u001b[1;33m)\u001b[0m\u001b[1;33m\u001b[0m\u001b[0m\n\u001b[0;32m     11\u001b[0m \u001b[0mprint\u001b[0m\u001b[1;33m(\u001b[0m\u001b[0mdata1\u001b[0m\u001b[1;33m.\u001b[0m\u001b[0mcolumns\u001b[0m\u001b[1;33m)\u001b[0m\u001b[1;33m\u001b[0m\u001b[0m\n",
      "\u001b[1;32m~\\Anaconda3\\lib\\site-packages\\pandas\\core\\reshape\\reshape.py\u001b[0m in \u001b[0;36mget_dummies\u001b[1;34m(data, prefix, prefix_sep, dummy_na, columns, sparse, drop_first, dtype)\u001b[0m\n\u001b[0;32m    842\u001b[0m                 include=dtypes_to_encode)\n\u001b[0;32m    843\u001b[0m         \u001b[1;32melse\u001b[0m\u001b[1;33m:\u001b[0m\u001b[1;33m\u001b[0m\u001b[0m\n\u001b[1;32m--> 844\u001b[1;33m             \u001b[0mdata_to_encode\u001b[0m \u001b[1;33m=\u001b[0m \u001b[0mdata\u001b[0m\u001b[1;33m[\u001b[0m\u001b[0mcolumns\u001b[0m\u001b[1;33m]\u001b[0m\u001b[1;33m\u001b[0m\u001b[0m\n\u001b[0m\u001b[0;32m    845\u001b[0m \u001b[1;33m\u001b[0m\u001b[0m\n\u001b[0;32m    846\u001b[0m         \u001b[1;31m# validate prefixes and separator to avoid silently dropping cols\u001b[0m\u001b[1;33m\u001b[0m\u001b[1;33m\u001b[0m\u001b[0m\n",
      "\u001b[1;32m~\\Anaconda3\\lib\\site-packages\\pandas\\core\\frame.py\u001b[0m in \u001b[0;36m__getitem__\u001b[1;34m(self, key)\u001b[0m\n\u001b[0;32m   2682\u001b[0m             \u001b[1;32mreturn\u001b[0m \u001b[0mself\u001b[0m\u001b[1;33m.\u001b[0m\u001b[0m_getitem_array\u001b[0m\u001b[1;33m(\u001b[0m\u001b[0mkey\u001b[0m\u001b[1;33m)\u001b[0m\u001b[1;33m\u001b[0m\u001b[0m\n\u001b[0;32m   2683\u001b[0m         \u001b[1;32melif\u001b[0m \u001b[0misinstance\u001b[0m\u001b[1;33m(\u001b[0m\u001b[0mkey\u001b[0m\u001b[1;33m,\u001b[0m \u001b[0mDataFrame\u001b[0m\u001b[1;33m)\u001b[0m\u001b[1;33m:\u001b[0m\u001b[1;33m\u001b[0m\u001b[0m\n\u001b[1;32m-> 2684\u001b[1;33m             \u001b[1;32mreturn\u001b[0m \u001b[0mself\u001b[0m\u001b[1;33m.\u001b[0m\u001b[0m_getitem_frame\u001b[0m\u001b[1;33m(\u001b[0m\u001b[0mkey\u001b[0m\u001b[1;33m)\u001b[0m\u001b[1;33m\u001b[0m\u001b[0m\n\u001b[0m\u001b[0;32m   2685\u001b[0m         \u001b[1;32melif\u001b[0m \u001b[0mis_mi_columns\u001b[0m\u001b[1;33m:\u001b[0m\u001b[1;33m\u001b[0m\u001b[0m\n\u001b[0;32m   2686\u001b[0m             \u001b[1;32mreturn\u001b[0m \u001b[0mself\u001b[0m\u001b[1;33m.\u001b[0m\u001b[0m_getitem_multilevel\u001b[0m\u001b[1;33m(\u001b[0m\u001b[0mkey\u001b[0m\u001b[1;33m)\u001b[0m\u001b[1;33m\u001b[0m\u001b[0m\n",
      "\u001b[1;32m~\\Anaconda3\\lib\\site-packages\\pandas\\core\\frame.py\u001b[0m in \u001b[0;36m_getitem_frame\u001b[1;34m(self, key)\u001b[0m\n\u001b[0;32m   2765\u001b[0m     \u001b[1;32mdef\u001b[0m \u001b[0m_getitem_frame\u001b[0m\u001b[1;33m(\u001b[0m\u001b[0mself\u001b[0m\u001b[1;33m,\u001b[0m \u001b[0mkey\u001b[0m\u001b[1;33m)\u001b[0m\u001b[1;33m:\u001b[0m\u001b[1;33m\u001b[0m\u001b[0m\n\u001b[0;32m   2766\u001b[0m         \u001b[1;32mif\u001b[0m \u001b[0mkey\u001b[0m\u001b[1;33m.\u001b[0m\u001b[0mvalues\u001b[0m\u001b[1;33m.\u001b[0m\u001b[0msize\u001b[0m \u001b[1;32mand\u001b[0m \u001b[1;32mnot\u001b[0m \u001b[0mis_bool_dtype\u001b[0m\u001b[1;33m(\u001b[0m\u001b[0mkey\u001b[0m\u001b[1;33m.\u001b[0m\u001b[0mvalues\u001b[0m\u001b[1;33m)\u001b[0m\u001b[1;33m:\u001b[0m\u001b[1;33m\u001b[0m\u001b[0m\n\u001b[1;32m-> 2767\u001b[1;33m             \u001b[1;32mraise\u001b[0m \u001b[0mValueError\u001b[0m\u001b[1;33m(\u001b[0m\u001b[1;34m'Must pass DataFrame with boolean values only'\u001b[0m\u001b[1;33m)\u001b[0m\u001b[1;33m\u001b[0m\u001b[0m\n\u001b[0m\u001b[0;32m   2768\u001b[0m         \u001b[1;32mreturn\u001b[0m \u001b[0mself\u001b[0m\u001b[1;33m.\u001b[0m\u001b[0mwhere\u001b[0m\u001b[1;33m(\u001b[0m\u001b[0mkey\u001b[0m\u001b[1;33m)\u001b[0m\u001b[1;33m\u001b[0m\u001b[0m\n\u001b[0;32m   2769\u001b[0m \u001b[1;33m\u001b[0m\u001b[0m\n",
      "\u001b[1;31mValueError\u001b[0m: Must pass DataFrame with boolean values only"
     ]
    }
   ],
   "source": [
    "# encoder les labels en utilisant la classe LabelEncoder() de scikit pour avoir des labels numeriques\n",
    "# encodeur\n",
    "encode_lab = LabelEncoder()\n",
    "# encoder en hot-encoding les autres variables categorielles\n",
    "print(\"Avant one-hot encoding\")\n",
    "print(data.columns)\n",
    "print(data.shape)\n",
    "# encodage\n",
    "data1 = pd.get_dummies(var_cat, columns=var_cat)\n",
    "print(\"Apres one-hot encoding\")\n",
    "print(data1.columns)\n",
    "print(data1.shape)"
   ]
  },
  {
   "cell_type": "code",
   "execution_count": null,
   "metadata": {},
   "outputs": [],
   "source": []
  },
  {
   "cell_type": "code",
   "execution_count": null,
   "metadata": {},
   "outputs": [],
   "source": []
  }
 ],
 "metadata": {
  "kernelspec": {
   "display_name": "Python 3",
   "language": "python",
   "name": "python3"
  },
  "language_info": {
   "codemirror_mode": {
    "name": "ipython",
    "version": 3
   },
   "file_extension": ".py",
   "mimetype": "text/x-python",
   "name": "python",
   "nbconvert_exporter": "python",
   "pygments_lexer": "ipython3",
   "version": "3.6.7"
  }
 },
 "nbformat": 4,
 "nbformat_minor": 2
}
